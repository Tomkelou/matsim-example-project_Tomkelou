{
  "nbformat": 4,
  "nbformat_minor": 0,
  "metadata": {
    "colab": {
      "provenance": [],
      "authorship_tag": "ABX9TyOCi20htFswjjnbL4x/dHoM",
      "include_colab_link": true
    },
    "kernelspec": {
      "name": "python3",
      "display_name": "Python 3"
    },
    "language_info": {
      "name": "python"
    }
  },
  "cells": [
    {
      "cell_type": "markdown",
      "metadata": {
        "id": "view-in-github",
        "colab_type": "text"
      },
      "source": [
        "<a href=\"https://colab.research.google.com/github/Tomkelou/matsim-example-project_Tomkelou/blob/master/DLprojekt.ipynb\" target=\"_parent\"><img src=\"https://colab.research.google.com/assets/colab-badge.svg\" alt=\"Open In Colab\"/></a>"
      ]
    },
    {
      "cell_type": "code",
      "execution_count": null,
      "metadata": {
        "colab": {
          "base_uri": "https://localhost:8080/"
        },
        "id": "kNaxKp-Ew_PJ",
        "outputId": "03fa00ec-bd85-4e92-ab40-a6091b8a79ad"
      },
      "outputs": [
        {
          "output_type": "stream",
          "name": "stdout",
          "text": [
            "Collecting py7zr\n",
            "  Downloading py7zr-1.0.0-py3-none-any.whl.metadata (17 kB)\n",
            "Collecting texttable (from py7zr)\n",
            "  Downloading texttable-1.7.0-py2.py3-none-any.whl.metadata (9.8 kB)\n",
            "Requirement already satisfied: pycryptodomex>=3.20.0 in /usr/local/lib/python3.11/dist-packages (from py7zr) (3.23.0)\n",
            "Collecting brotli>=1.1.0 (from py7zr)\n",
            "  Downloading Brotli-1.1.0-cp311-cp311-manylinux_2_17_x86_64.manylinux2014_x86_64.whl.metadata (5.5 kB)\n",
            "Requirement already satisfied: psutil in /usr/local/lib/python3.11/dist-packages (from py7zr) (5.9.5)\n",
            "Collecting pyzstd>=0.16.1 (from py7zr)\n",
            "  Downloading pyzstd-0.17.0-cp311-cp311-manylinux_2_17_x86_64.manylinux2014_x86_64.whl.metadata (2.5 kB)\n",
            "Collecting pyppmd<1.3.0,>=1.1.0 (from py7zr)\n",
            "  Downloading pyppmd-1.2.0-cp311-cp311-manylinux_2_17_x86_64.manylinux2014_x86_64.whl.metadata (5.4 kB)\n",
            "Collecting pybcj<1.1.0,>=1.0.0 (from py7zr)\n",
            "  Downloading pybcj-1.0.6-cp311-cp311-manylinux_2_17_x86_64.manylinux2014_x86_64.whl.metadata (3.7 kB)\n",
            "Collecting multivolumefile>=0.2.3 (from py7zr)\n",
            "  Downloading multivolumefile-0.2.3-py3-none-any.whl.metadata (6.3 kB)\n",
            "Collecting inflate64<1.1.0,>=1.0.0 (from py7zr)\n",
            "  Downloading inflate64-1.0.3-cp311-cp311-manylinux_2_17_x86_64.manylinux2014_x86_64.whl.metadata (4.4 kB)\n",
            "Requirement already satisfied: typing-extensions>=4.13.2 in /usr/local/lib/python3.11/dist-packages (from pyzstd>=0.16.1->py7zr) (4.14.0)\n",
            "Downloading py7zr-1.0.0-py3-none-any.whl (69 kB)\n",
            "\u001b[2K   \u001b[90m━━━━━━━━━━━━━━━━━━━━━━━━━━━━━━━━━━━━━━━━\u001b[0m \u001b[32m69.7/69.7 kB\u001b[0m \u001b[31m3.1 MB/s\u001b[0m eta \u001b[36m0:00:00\u001b[0m\n",
            "\u001b[?25hDownloading Brotli-1.1.0-cp311-cp311-manylinux_2_17_x86_64.manylinux2014_x86_64.whl (2.9 MB)\n",
            "\u001b[2K   \u001b[90m━━━━━━━━━━━━━━━━━━━━━━━━━━━━━━━━━━━━━━━━\u001b[0m \u001b[32m2.9/2.9 MB\u001b[0m \u001b[31m36.2 MB/s\u001b[0m eta \u001b[36m0:00:00\u001b[0m\n",
            "\u001b[?25hDownloading inflate64-1.0.3-cp311-cp311-manylinux_2_17_x86_64.manylinux2014_x86_64.whl (96 kB)\n",
            "\u001b[2K   \u001b[90m━━━━━━━━━━━━━━━━━━━━━━━━━━━━━━━━━━━━━━━━\u001b[0m \u001b[32m96.4/96.4 kB\u001b[0m \u001b[31m7.7 MB/s\u001b[0m eta \u001b[36m0:00:00\u001b[0m\n",
            "\u001b[?25hDownloading multivolumefile-0.2.3-py3-none-any.whl (17 kB)\n",
            "Downloading pybcj-1.0.6-cp311-cp311-manylinux_2_17_x86_64.manylinux2014_x86_64.whl (50 kB)\n",
            "\u001b[2K   \u001b[90m━━━━━━━━━━━━━━━━━━━━━━━━━━━━━━━━━━━━━━━━\u001b[0m \u001b[32m50.7/50.7 kB\u001b[0m \u001b[31m3.4 MB/s\u001b[0m eta \u001b[36m0:00:00\u001b[0m\n",
            "\u001b[?25hDownloading pyppmd-1.2.0-cp311-cp311-manylinux_2_17_x86_64.manylinux2014_x86_64.whl (141 kB)\n",
            "\u001b[2K   \u001b[90m━━━━━━━━━━━━━━━━━━━━━━━━━━━━━━━━━━━━━━━━\u001b[0m \u001b[32m141.3/141.3 kB\u001b[0m \u001b[31m12.0 MB/s\u001b[0m eta \u001b[36m0:00:00\u001b[0m\n",
            "\u001b[?25hDownloading pyzstd-0.17.0-cp311-cp311-manylinux_2_17_x86_64.manylinux2014_x86_64.whl (412 kB)\n",
            "\u001b[2K   \u001b[90m━━━━━━━━━━━━━━━━━━━━━━━━━━━━━━━━━━━━━━━━\u001b[0m \u001b[32m412.9/412.9 kB\u001b[0m \u001b[31m27.5 MB/s\u001b[0m eta \u001b[36m0:00:00\u001b[0m\n",
            "\u001b[?25hDownloading texttable-1.7.0-py2.py3-none-any.whl (10 kB)\n",
            "Installing collected packages: texttable, brotli, pyzstd, pyppmd, pybcj, multivolumefile, inflate64, py7zr\n",
            "Successfully installed brotli-1.1.0 inflate64-1.0.3 multivolumefile-0.2.3 py7zr-1.0.0 pybcj-1.0.6 pyppmd-1.2.0 pyzstd-0.17.0 texttable-1.7.0\n",
            "['.config', 'sample_data']\n"
          ]
        }
      ],
      "source": [
        "!pip install py7zr\n",
        "import py7zr\n",
        "import os\n",
        "\n",
        "print(os.listdir())\n",
        "with py7zr.SevenZipFile('sample_data/Renewables_Datasets.7z', mode='r') as z:\n",
        "     z.extractall()\n",
        "\n"
      ]
    },
    {
      "cell_type": "code",
      "source": [
        "!pip install netCDF4\n",
        "!pip install basemap‑1.2.1‑cp37‑cp37m‑win_amd64.whl\n",
        "from netCDF4 import Dataset\n",
        "import numpy as np\n",
        "from mpl_toolkits.basemap import Basemap"
      ],
      "metadata": {
        "colab": {
          "base_uri": "https://localhost:8080/"
        },
        "id": "Y1iDGlRJyS0G",
        "outputId": "1e63d6ae-ddd1-4ed7-83e6-191e75a0b3a4"
      },
      "execution_count": null,
      "outputs": [
        {
          "output_type": "stream",
          "name": "stdout",
          "text": [
            "Requirement already satisfied: netCDF4 in /usr/local/lib/python3.11/dist-packages (1.7.2)\n",
            "Requirement already satisfied: cftime in /usr/local/lib/python3.11/dist-packages (from netCDF4) (1.6.4.post1)\n",
            "Requirement already satisfied: certifi in /usr/local/lib/python3.11/dist-packages (from netCDF4) (2025.6.15)\n",
            "Requirement already satisfied: numpy in /usr/local/lib/python3.11/dist-packages (from netCDF4) (2.0.2)\n",
            "\u001b[33mWARNING: Requirement 'basemap‑1.2.1‑cp37‑cp37m‑win_amd64.whl' looks like a filename, but the file does not exist\u001b[0m\u001b[33m\n",
            "\u001b[0m\u001b[31mERROR: basemap‑1.2.1‑cp37‑cp37m‑win_amd64.whl is not a valid wheel filename.\u001b[0m\u001b[31m\n",
            "\u001b[0m"
          ]
        }
      ]
    },
    {
      "cell_type": "code",
      "source": [
        "from matplotlib import pyplot as plt\n",
        "file = 'sample_data/Solar/1.Train/power_weighted_weather_data_train.nc' # mention the path to the downloaded file\n",
        "data = Dataset(file, mode='r') # read the data\n",
        "print(type(data)) # print the type of the data\n",
        "print(data.variables.keys()) # print the variables in the data\n",
        "\n",
        "lats = data.variables['latitude'][:]\n",
        "longs = data.variables['longitude'][:]\n",
        "time = data.variables['time'][:]\n",
        "\n",
        "e = data.variables['ssrd'][:]\n",
        "\n",
        "mp = Basemap(projection='merc',\n",
        "             llcrnrlon=-2.490290,   # lower longitude 42.174890, -2.490290\n",
        "             llcrnrlat=42.174890,    # lower latitude\n",
        "             urcrnrlon=8.405959,   # uppper longitude 51.037323, 8.405959\n",
        "             urcrnrlat=51.037323,   # uppper latitude\n",
        "            resolution = 'i')\n",
        "\n",
        "lon, lat = np.meshgrid(longs,lats)  #this converts coordinates into 2D arrray\n",
        "x,y = mp(lon,lat) #mapping them together\n",
        "plt.figure(figsize=(6,8)) #figure size\n",
        "c_scheme = mp.pcolor(x,y,np.squeeze(e[0,:,:]),cmap = 'jet') # [0,:,:] is for the first day of the year\n",
        "\n",
        "# consider this as the outline for the map that is to be created\n",
        "mp.drawcoastlines()\n",
        "mp.drawstates()\n",
        "mp.drawcountries()\n",
        "\n",
        "cbar = mp.colorbar(c_scheme,location='right',pad = '10%') # map information\n",
        "plt.title('e')\n",
        "plt.show()\n",
        "\n",
        "plt.savefig('e.jpg',dpi=300) #saves the image generated\n",
        "\n"
      ],
      "metadata": {
        "colab": {
          "base_uri": "https://localhost:8080/",
          "height": 623
        },
        "id": "WLNpaTK25Zfx",
        "outputId": "7dafa561-218b-4e91-fe36-b33441fcedf3"
      },
      "execution_count": null,
      "outputs": [
        {
          "output_type": "stream",
          "name": "stdout",
          "text": [
            "<class 'netCDF4._netCDF4.Dataset'>\n",
            "dict_keys(['ssrd', 'e', 't2m', 'i10fg', 'dayl', 'longitude', 'latitude', 'time'])\n"
          ]
        },
        {
          "output_type": "display_data",
          "data": {
            "text/plain": [
              "<Figure size 600x800 with 2 Axes>"
            ],
            "image/png": "[encoded data removed]"
          },
          "metadata": {}
        },
        {
          "output_type": "display_data",
          "data": {
            "text/plain": [
              "<Figure size 640x480 with 0 Axes>"
            ]
          },
          "metadata": {}
        }
      ]
    },
    {
      "cell_type": "code",
      "source": [
        "lon, lat = np.meshgrid(longs,lats)\n",
        "x,y = mp(lon,lat)\n",
        "plt.figure(figsize=(6,8))\n",
        "\n",
        "# loop for all the days\n",
        "days = np.arange(0,365)  # for considering all days of the year\n",
        "\n",
        "for i in days:\n",
        "    c_scheme = mp.pcolor(x,y,np.squeeze(e[i,:,:]),cmap = 'jet')\n",
        "\n",
        "    mp.drawcoastlines()\n",
        "    mp.drawstates()\n",
        "    mp.drawcountries()\n",
        "\n",
        "    cbar = mp.colorbar(c_scheme,location='right',pad = '10%')\n",
        "    day = i+1\n",
        "\n",
        "    plt.title('Average Temperature for the Day ' + str(day) +  ' of year 2019')\n",
        "    plt.clim(0,0.003)\n",
        "\n",
        "    plt.savefig(str(day)+'.jpg')\n",
        "    plt.clf()"
      ],
      "metadata": {
        "colab": {
          "base_uri": "https://localhost:8080/",
          "height": 35
        },
        "id": "DE1RfRBU9Bnl",
        "outputId": "d3f8e7b8-405f-4c55-b596-79380d6c38f6"
      },
      "execution_count": null,
      "outputs": [
        {
          "output_type": "display_data",
          "data": {
            "text/plain": [
              "<Figure size 600x800 with 0 Axes>"
            ]
          },
          "metadata": {}
        }
      ]
    },
    {
      "cell_type": "code",
      "source": [
        "#!pip install pillow\n",
        "import PIL\n",
        "import os\n",
        "\n",
        "image_frames = [] # creating a empty list to be appended later on\n",
        "days = np.arange(1,365)\n",
        "\n",
        "for k in days:\n",
        "    path = os.path.join(f'{k}.jpg')\n",
        "    new_fram = PIL.Image.open(path)\n",
        "    image_frames.append(new_fram)\n",
        "\n",
        "image_frames[0].save('tave_timelapse.gif',format='GIF',\n",
        "                    append_images = image_frames[1: ],\n",
        "                    save_all = True, duration = 100,\n",
        "                    loop = 0)"
      ],
      "metadata": {
        "id": "J6dOQ6nK92nS"
      },
      "execution_count": null,
      "outputs": []
    },
    {
      "cell_type": "code",
      "source": [
        "\n",
        "from matplotlib import pyplot as plt\n",
        "import pandas as pd\n",
        "import netCDF4 as nc\n",
        "\n",
        "\n",
        "fp='Solar/1.Train/power_weighted_weather_data_train.nc'\n",
        "ds = nc.Dataset(fp)\n",
        "#plt.imshow(nc['Temp'][1,:,0,:])\n",
        "#plt.show()\n",
        "\n",
        "\n",
        "\n",
        "# Print the dimensions\n",
        "#print(ds.dimensions)\n",
        "\n",
        "# Print the variables\n",
        "#print(ds.variables.keys())\n",
        "\n",
        "# Access a variable\n",
        "#temperature = ds.variables['i10fg']\n",
        "#print(temperature[:])\n",
        "#for name in ds.variables.keys():\n",
        "data = ds.variables['i10fg']\n",
        "print(data.units)\n",
        "#print('i10fg', data.units)#, data.shape,data.dtype, data.dimensions)\n",
        "\n",
        "# Close the file\n",
        "ds.close()"
      ],
      "metadata": {
        "colab": {
          "base_uri": "https://localhost:8080/",
          "height": 424
        },
        "id": "FvFUrhxgxld6",
        "outputId": "7a0ef83d-716f-457b-d029-953b75e63611"
      },
      "execution_count": null,
      "outputs": [
        {
          "output_type": "error",
          "ename": "AttributeError",
          "evalue": "NetCDF: Attribute not found",
          "traceback": [
            "\u001b[0;31m---------------------------------------------------------------------------\u001b[0m",
            "\u001b[0;31mAttributeError\u001b[0m                            Traceback (most recent call last)",
            "\u001b[0;32m/tmp/ipython-input-46-2168342534.py\u001b[0m in \u001b[0;36m<cell line: 0>\u001b[0;34m()\u001b[0m\n\u001b[1;32m     22\u001b[0m \u001b[0;31m#for name in ds.variables.keys():\u001b[0m\u001b[0;34m\u001b[0m\u001b[0;34m\u001b[0m\u001b[0m\n\u001b[1;32m     23\u001b[0m \u001b[0mdata\u001b[0m \u001b[0;34m=\u001b[0m \u001b[0mds\u001b[0m\u001b[0;34m.\u001b[0m\u001b[0mvariables\u001b[0m\u001b[0;34m[\u001b[0m\u001b[0;34m'i10fg'\u001b[0m\u001b[0;34m]\u001b[0m\u001b[0;34m\u001b[0m\u001b[0;34m\u001b[0m\u001b[0m\n\u001b[0;32m---> 24\u001b[0;31m \u001b[0mprint\u001b[0m\u001b[0;34m(\u001b[0m\u001b[0mdata\u001b[0m\u001b[0;34m.\u001b[0m\u001b[0munits\u001b[0m\u001b[0;34m)\u001b[0m\u001b[0;34m\u001b[0m\u001b[0;34m\u001b[0m\u001b[0m\n\u001b[0m\u001b[1;32m     25\u001b[0m \u001b[0;31m#print('i10fg', data.units)#, data.shape,data.dtype, data.dimensions)\u001b[0m\u001b[0;34m\u001b[0m\u001b[0;34m\u001b[0m\u001b[0m\n\u001b[1;32m     26\u001b[0m \u001b[0;34m\u001b[0m\u001b[0m\n",
            "\u001b[0;32msrc/netCDF4/_netCDF4.pyx\u001b[0m in \u001b[0;36mnetCDF4._netCDF4.Variable.__getattr__\u001b[0;34m()\u001b[0m\n",
            "\u001b[0;32msrc/netCDF4/_netCDF4.pyx\u001b[0m in \u001b[0;36mnetCDF4._netCDF4.Variable.getncattr\u001b[0;34m()\u001b[0m\n",
            "\u001b[0;32msrc/netCDF4/_netCDF4.pyx\u001b[0m in \u001b[0;36mnetCDF4._netCDF4._get_att\u001b[0;34m()\u001b[0m\n",
            "\u001b[0;32msrc/netCDF4/_netCDF4.pyx\u001b[0m in \u001b[0;36mnetCDF4._netCDF4._ensure_nc_success\u001b[0;34m()\u001b[0m\n",
            "\u001b[0;31mAttributeError\u001b[0m: NetCDF: Attribute not found"
          ]
        }
      ]
    }
  ]
}